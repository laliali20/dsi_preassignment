{
  "nbformat": 4,
  "nbformat_minor": 0,
  "metadata": {
    "colab": {
      "name": "DSIPreAssignment.ipynb",
      "provenance": [],
      "authorship_tag": "ABX9TyPErtdn6izvX7pd1/EexJAo",
      "include_colab_link": true
    },
    "kernelspec": {
      "name": "python3",
      "display_name": "Python 3"
    },
    "language_info": {
      "name": "python"
    }
  },
  "cells": [
    {
      "cell_type": "markdown",
      "metadata": {
        "id": "view-in-github",
        "colab_type": "text"
      },
      "source": [
        "<a href=\"https://colab.research.google.com/github/laliali20/dsi_preassignment/blob/main/DSIPreAssignment.ipynb\" target=\"_parent\"><img src=\"https://colab.research.google.com/assets/colab-badge.svg\" alt=\"Open In Colab\"/></a>"
      ]
    },
    {
      "cell_type": "code",
      "execution_count": null,
      "metadata": {
        "id": "cuuXpFvlIXRQ",
        "colab": {
          "base_uri": "https://localhost:8080/",
          "height": 336
        },
        "outputId": "c2f6ce8c-4910-4129-915e-5414a0b6911c"
      },
      "outputs": [
        {
          "output_type": "display_data",
          "data": {
            "image/png": "[encoded data removed]",
            "text/plain": [
              "<Figure size 360x360 with 1 Axes>"
            ]
          },
          "metadata": {
            "needs_background": "light"
          }
        }
      ],
      "source": [
        "import math\n",
        "from shapely.geometry.polygon import LinearRing, Polygon\n",
        "from matplotlib import pyplot as plt\n",
        "import numpy as np\n",
        "from scipy.stats import rankdata\n",
        "\n",
        "# function to randomly select point within the hexagon\n",
        "def random_point(edges):\n",
        "    x_points_max = [max(val[0][0], val[1][0]) for val in edges]\n",
        "    x_points_min = [min(val[0][0], val[1][0]) for val in edges]\n",
        "    y_points_max = [max(val[0][1], val[1][1]) for val in edges]\n",
        "    y_points_min = [min(val[0][1], val[1][1]) for val in edges]\n",
        "    x_random = np.random.rand()\n",
        "    point_x = x_random * (max(x_points_max) - min(x_points_min)) + min(x_points_min) \n",
        "    slopes = [(val[0][1] - val[1][1])/(val[0][0] - val[1][0]) for val in edges]\n",
        "    intercepts  = [val[0][1] - ((val[0][1] - val[1][1])/(val[0][0] - val[1][0])) * val[0][0] for val in edges]\n",
        "    y_values = np.array(slopes) * point_x + np.array(intercepts)\n",
        "    consider_edge = np.zeros(len(edges))\n",
        "    \n",
        "    for i in range(len(y_values)):\n",
        "        if y_values[i] <= y_points_max[i] and y_values[i] >= y_points_min[i] and point_x <= x_points_max[i] and point_x >= x_points_min[i]   :\n",
        "            consider_edge[i] = 1\n",
        "\n",
        "    y_random = np.random.rand()\n",
        "    considered_edges  = [i for i, val in enumerate(consider_edge) if (val==1)]\n",
        "    considered_edges_values = y_values[considered_edges]\n",
        "\n",
        "    if sum(consider_edge) == 2: \n",
        "        y_length = abs(considered_edges_values[0] - considered_edges_values[1])\n",
        "        point_y = min(considered_edges_values) + y_random * y_length\n",
        "    elif sum(consider_edge) == 4:\n",
        "        ranked_ys = rankdata(considered_edges_values)\n",
        "        interval1_items = [considered_edges_values[i] for i, val in enumerate(ranked_ys) if (val <= 2)]\n",
        "        interval2_items = [considered_edges_values[i] for i, val in enumerate(ranked_ys) if (val > 2)]\n",
        "        interval1_len = abs(interval1_items[0] - interval1_items[1])\n",
        "        interval2_len = abs(interval2_items[0] - interval2_items[1])\n",
        "        interval = interval1_len + interval2_len\n",
        "        # interval\n",
        "        interval1_prob = interval1_len/interval\n",
        "        if y_random <= interval1_prob:\n",
        "            point_y = min(interval1_items) + interval * y_random\n",
        "        else:\n",
        "            point_y = min(interval2_items) +   (interval * y_random) - interval1_len         \n",
        "    return [point_x,point_y]\n",
        "\n",
        "# function to find closest adjacent edge (I  was initially using vertices)\n",
        "def find_closest_adjacent_verices(random_point, edges): \n",
        "    distance = 1000000000\n",
        "    # distances = []\n",
        "    closest_edge = []\n",
        "    for edge in edges:\n",
        "        midpoint_x = (edge[0][0] + edge[1][0])/2\n",
        "        midpoint_y = (edge[0][1] + edge[1][1])/2\n",
        "        temp_distance  = math.sqrt(((midpoint_x - random_point[0]) ** 2)  +  ((midpoint_y - random_point[1]) ** 2))\n",
        "        \n",
        "        if temp_distance < distance:\n",
        "            distance = temp_distance\n",
        "            closest_edge = edge \n",
        "        # distances.append(temp_distance)      \n",
        "    return closest_edge\n",
        "\n",
        "\n",
        "# define hexagon vertices and edges\n",
        "a = 1 - (math.sqrt(3)/2)\n",
        "b = 2 + (math.sqrt(3)/2)\n",
        "\n",
        "#### Main Code\n",
        "# regular hexagon \n",
        "hex_veritices = [(a, 0.5), (1, 1), (2, 1), (b, 0.5), (2, 0), (1, 0)]\n",
        "edges = [[(a, 0.5),(1, 1)], [(a, 0.5),(1, 0)], [(1, 1), (2, 1)], [(1, 0), (2, 0)], [(b, 0.5), (2, 0)], [(b, 0.5), (2, 1)]] \n",
        "\n",
        "# irregular hexagon\n",
        "# hex_veritices = [(1,10), (2,8), (5, 11), (2, 14), (1, 13), (2, 11)]  \n",
        "# edges = [[(1,10), (2,8)], [(2,8), (5, 11)], [(5, 11), (2, 14)], [(2, 14), (1, 13)], [(1, 13), (2, 11)], [(2, 11), (1,10)]]  \n",
        "\n",
        "poly = Polygon(hex_veritices)\n",
        "\n",
        "# make triangles\n",
        "triangles  = []\n",
        "random_point_x = []\n",
        "random_point_y = []\n",
        "shape = [poly]\n",
        "random_point = random_point(edges)\n",
        "for  i in range(0, 10000):\n",
        "    random_point_x.append(random_point[0])\n",
        "    random_point_y.append(random_point[1])\n",
        "    vert = find_closest_adjacent_verices(random_point, edges)\n",
        "    triangles.append([vert[0], vert[1], (random_point[0],random_point[1])])\n",
        "    shape.append(Polygon([vert[0], vert[1], (random_point[0],random_point[1])]))\n",
        "    random_point = [(vert[0][0] + vert[1][0] + random_point[0])/3, (vert[0][1] + vert[1][1] + random_point[1])/3]\n",
        "fig, axs = plt.subplots()\n",
        "fig.set_size_inches(5, 5)\n",
        "for poly in shape:    \n",
        "    xs, ys = poly.exterior.xy    \n",
        "    axs.plot(xs, ys, color='#6699cc' ) \n",
        "plt.title(\"Hexagon With Triangles plot\")\n",
        "plt.show()\n",
        "\n",
        "# poly = Polygon(hex_veritices)\n",
        "# fig, axs = plt.subplots()\n",
        "# xs, ys = poly.exterior.xy    \n",
        "# plt.plot(xs, ys, color='#6699cc' ) \n",
        "#     # , alpha=0.7, linewidth=3, solid_capstyle='round', zorder=2)\n",
        "# # plt.show()\n",
        "# # axs.plot(random_points)\n",
        "\n",
        "# # axs.plot(random_point_x, random_point_y)\n",
        "# plt.title(\"Hexagon With Points plot\")\n",
        "# plt.show()\n"
      ]
    },
    {
      "cell_type": "code",
      "source": [
        "import pandas as pd\n",
        "import numpy as np\n",
        "import matplotlib.pyplot as plt\n",
        "from sklearn.linear_model import LinearRegression\n",
        "from scipy import stats\n",
        "import torch\n",
        "from torch.autograd import Variable\n",
        "import math\n",
        "\n",
        "\n",
        "# import data\n",
        "\n",
        "df1 = pd.read_csv('title.basics.tsv.gz', sep='\\t')\n",
        "df2 = pd.read_csv('title.akas.tsv.gz', sep='\\t')\n",
        "df3 = pd.read_csv('title.ratings.tsv.gz', sep='\\t')\n",
        "\n",
        "# remove duplicates\n",
        "duplicates_df = pd.DataFrame([['df1', sum(df1.duplicated())], ['df2', sum(df2.duplicated())], ['df3', sum(df3.duplicated())]], columns=['dataFrame','NumberOfDupilcates'])\n",
        "print(duplicates_df)\n",
        "\n",
        "# Merge the datasets\n",
        "df2.rename(columns={\"titleId\": \"tconst\"},inplace=True)\n",
        "df_temp = df1.merge(df2, on=['tconst'], how = 'inner').merge(df3, on=['tconst'], how = 'inner')\n",
        "df_outer_1 = df1.merge(df2, on=['tconst'], how = 'outer').merge(df3, on=['tconst'], how = 'outer')\n",
        "joins_df = pd.DataFrame([['inner', len(df_temp)], ['outer', len(df_outer_1)]], columns=['joinType','NumberOfRecords'])\n",
        "\n",
        "# unique titletypes\n",
        "print('There are {} different titleTypes'.format(len(df_temp['titleType'].unique())))\n",
        "\n",
        "# select rows corresponding to Eng language or or US region into new df call it df_new\n",
        "\n",
        "movies = df_temp.loc[df_temp['titleType'] == 'movie']\n",
        "df_new = movies.loc[(movies['language'] == 'en') | (movies['region'] == 'US')]\n",
        "\n",
        "# add new column to df_new --> log10Votes log of numOfVotes\n",
        "df_new['log10Votes'] = np.log10(df_new['numVotes'])\n",
        "\n",
        "# lower case all the grnres column text\n",
        "def lowercase_col(row_val):\n",
        "    return row_val.lower()\n",
        "df_new['genres'] = df_new.apply(lambda x: lowercase_col(x['genres']), axis=1)\n",
        "\n",
        "# group the data by genres and display top 10 highest genres by: \n",
        "    # --> mean of log10Votes \n",
        "    # --> mean of averageRating\n",
        "\n",
        "df_new_agg = df_new.groupby(['genres'], as_index=False).agg({'log10Votes': 'mean','averageRating':'mean'})\n",
        "top10_votes =  df_new_agg.nlargest(10, 'log10Votes')\n",
        "top10_ratings = df_new_agg.nlargest(10, 'averageRating')\n",
        "top10_ratings\n",
        "# top10_ratings\n",
        "\n",
        "\n",
        "# make a scatter plot of avgRating by log10Votes\n",
        "# fig, axs = plt.subplots()\n",
        "# axs.scatter(df_new['log10Votes'],df_new['averageRating'])\n",
        "# plt.show()\n",
        "df_avgRating = df_new.groupby(['averageRating'], as_index=False).agg({'log10Votes': 'mean'})\n",
        "plt.scatter(df_avgRating['log10Votes'], df_avgRating['averageRating'])\n",
        "plt.show()\n",
        "\n",
        "\n",
        "# perform linear regression  \n",
        "# reg_input = df_new_agg['averageRating']\n",
        "# reg_output = df_new_agg['log10Votes']\n",
        "\n",
        "reg_input = df_avgRating['averageRating']\n",
        "reg_output = df_avgRating['log10Votes']\n",
        "\n",
        "\n",
        "# Using sklearn\n",
        "X_sklearn = np.array(reg_input).reshape(-1, 1)\n",
        "y_sklearn = np.array(reg_output).reshape(-1, 1)\n",
        "reg_sklearn = LinearRegression().fit(X_sklearn,y_sklearn)\n",
        "\n",
        "# Using Scipy\n",
        "reg_scipy = stats.linregress(reg_input, reg_output)\n",
        "\n",
        "# Using Pytorch\n",
        "x_data = Variable(torch.Tensor(np.array(reg_input, dtype=np.float32).reshape(-1, 1).astype('float32')))\n",
        "y_data = Variable(torch.Tensor(np.array(reg_output, dtype=np.float32).reshape(-1, 1).astype('float32')))\n",
        "\n",
        "# Create class\n",
        "class LinearRegressionModel(torch.nn.Module):\n",
        " \n",
        "    def __init__(self):\n",
        "        super(LinearRegressionModel, self).__init__()\n",
        "        self.linear = torch.nn.Linear(1, 1)  \n",
        " \n",
        "    def forward(self, x):\n",
        "        y_pred = self.linear(x)\n",
        "        return y_pred \n",
        "\n",
        "model = LinearRegressionModel()\n",
        "criterion = torch.nn.MSELoss(size_average = False)\n",
        "optimizer = torch.optim.SGD(model.parameters(), lr = 0.01)\n",
        " \n",
        "for epoch in range(1):\n",
        " \n",
        "    # Forward pass: Compute predicted y by passing\n",
        "    # x to the model\n",
        "    pred_y = model(x_data)\n",
        " \n",
        "    # Compute and print loss\n",
        "    loss = criterion(pred_y, y_data)\n",
        " \n",
        "    # Zero gradients, perform a backward pass,\n",
        "    # and update the weights.\n",
        "    optimizer.zero_grad()\n",
        "    loss.backward()\n",
        "    optimizer.step()\n",
        "    # print('epoch {}, loss {}'.format(epoch, loss.item()))\n",
        "[w, b] = model.parameters()   \n",
        "# new_var = Variable(torch.Tensor([[0.0]]))\n",
        "# pred_y = model(new_var)\n",
        "# print('w: {}, b: {}, prediction for 4: {}'.format(w[0][0],b[0], pred_y.item()))\n",
        "\n",
        "print('''Slope from scipy is {} Intercept is {} \n",
        "Slope from sklearn is {} Intercept is {} \n",
        "'''.format(reg_scipy.slope,reg_scipy.intercept,reg_sklearn.coef_[0][0],reg_sklearn.intercept_[0]))\n",
        "\n",
        "reg_sklearn_pred = reg_sklearn.predict(X_sklearn)\n",
        "reg_scipy_pred = reg_scipy.intercept + reg_scipy.slope * np.array(reg_input)\n",
        "\n",
        "plt.scatter(reg_output, reg_input, label = 'original data')\n",
        "plt.plot(reg_sklearn_pred, X_sklearn, label = 'sklearn')\n",
        "plt.plot(reg_scipy_pred, reg_input, label = 'scipy')\n",
        "plt.show()"
      ],
      "metadata": {
        "id": "ejtTZqchXe0V",
        "outputId": "685bb93e-40d6-4a37-e4b5-a9f3b7e5c499",
        "colab": {
          "base_uri": "https://localhost:8080/",
          "height": 811
        }
      },
      "execution_count": null,
      "outputs": [
        {
          "output_type": "stream",
          "name": "stdout",
          "text": [
            "There are 10 different titleTypes\n"
          ]
        },
        {
          "output_type": "stream",
          "name": "stderr",
          "text": [
            "/usr/local/lib/python3.7/dist-packages/ipykernel_launcher.py:36: SettingWithCopyWarning: \n",
            "A value is trying to be set on a copy of a slice from a DataFrame.\n",
            "Try using .loc[row_indexer,col_indexer] = value instead\n",
            "\n",
            "See the caveats in the documentation: https://pandas.pydata.org/pandas-docs/stable/user_guide/indexing.html#returning-a-view-versus-a-copy\n",
            "/usr/local/lib/python3.7/dist-packages/ipykernel_launcher.py:41: SettingWithCopyWarning: \n",
            "A value is trying to be set on a copy of a slice from a DataFrame.\n",
            "Try using .loc[row_indexer,col_indexer] = value instead\n",
            "\n",
            "See the caveats in the documentation: https://pandas.pydata.org/pandas-docs/stable/user_guide/indexing.html#returning-a-view-versus-a-copy\n"
          ]
        },
        {
          "output_type": "display_data",
          "data": {
            "image/png": "[encoded data removed]",
            "text/plain": [
              "<Figure size 432x288 with 1 Axes>"
            ]
          },
          "metadata": {
            "needs_background": "light"
          }
        },
        {
          "output_type": "stream",
          "name": "stderr",
          "text": [
            "/usr/local/lib/python3.7/dist-packages/torch/nn/_reduction.py:42: UserWarning: size_average and reduce args will be deprecated, please use reduction='sum' instead.\n",
            "  warnings.warn(warning.format(ret))\n"
          ]
        },
        {
          "output_type": "stream",
          "name": "stdout",
          "text": [
            "Slope from scipy is -0.07894133621603108 Intercept is 2.5105531440478193 \n",
            "Slope from sklearn is -0.07894133621603108 Intercept is 2.5105531440478193 \n",
            "\n"
          ]
        },
        {
          "output_type": "display_data",
          "data": {
            "image/png": "[encoded data removed]",
            "text/plain": [
              "<Figure size 432x288 with 1 Axes>"
            ]
          },
          "metadata": {
            "needs_background": "light"
          }
        }
      ]
    }
  ]
}